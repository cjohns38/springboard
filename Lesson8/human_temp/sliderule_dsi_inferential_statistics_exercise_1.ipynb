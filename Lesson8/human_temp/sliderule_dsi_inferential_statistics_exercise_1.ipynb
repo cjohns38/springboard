{
 "cells": [
  {
   "cell_type": "markdown",
   "metadata": {},
   "source": [
    "# What is the True Normal Human Body Temperature? \n",
    "\n",
    "#### Background\n",
    "\n",
    "The mean normal body temperature was held to be 37$^{\\circ}$C or 98.6$^{\\circ}$F for more than 120 years since it was first conceptualized and reported by Carl Wunderlich in a famous 1868 book. But, is this value statistically correct?"
   ]
  },
  {
   "cell_type": "markdown",
   "metadata": {},
   "source": [
    "<div class=\"span5 alert alert-info\">\n",
    "<h3>Exercises</h3>\n",
    "\n",
    "<p>In this exercise, you will analyze a dataset of human body temperatures and employ the concepts of hypothesis testing, confidence intervals, and statistical significance.</p>\n",
    "\n",
    "<p>Answer the following questions <b>in this notebook below and submit to your Github account</b>.</p> \n",
    "\n",
    "<ol>\n",
    "<li>  Is the distribution of body temperatures normal? \n",
    "    <ul>\n",
    "    <li> Although this is not a requirement for CLT to hold (read CLT carefully), it gives us some peace of mind that the population may also be normally distributed if we assume that this sample is representative of the population.\n",
    "    </ul>\n",
    "<li>  Is the sample size large? Are the observations independent?\n",
    "    <ul>\n",
    "    <li> Remember that this is a condition for the CLT, and hence the statistical tests we are using, to apply.\n",
    "    </ul>\n",
    "<li>  Is the true population mean really 98.6 degrees F?\n",
    "    <ul>\n",
    "    <li> Would you use a one-sample or two-sample test? Why?\n",
    "    <li> In this situation, is it appropriate to use the $t$ or $z$ statistic? \n",
    "    <li> Now try using the other test. How is the result be different? Why?\n",
    "    </ul>\n",
    "<li>  At what temperature should we consider someone's temperature to be \"abnormal\"?\n",
    "    <ul>\n",
    "    <li> Start by computing the margin of error and confidence interval.\n",
    "    </ul>\n",
    "<li>  Is there a significant difference between males and females in normal temperature?\n",
    "    <ul>\n",
    "    <li> What test did you use and why?\n",
    "    <li> Write a story with your conclusion in the context of the original problem.\n",
    "    </ul>\n",
    "</ol>\n",
    "\n",
    "\n",
    "<p>You can include written notes in notebook cells using Markdown:</p> \n",
    "    <ul>\n",
    "    <li>In the control panel at the top, choose Cell > Cell Type > Markdown</li>\n",
    "    <li>Markdown syntax: http://nestacms.com/docs/creating-content/markdown-cheat-sheet</li>\n",
    "    </ul>\n",
    "    \n",
    "<p>Resources</p>\n",
    "<ul>\n",
    "<li><a href=\"http://www.amstat.org/publications/jse/datasets/normtemp.txt\">Norm temp</a></li> \n",
    "<li><a href=\"http://www.amstat.org/publications/jse/jse_data_archive.htm\">JSE Data Archive</a></li>\n",
    "<li><a href=\"http://nestacms.com/docs/creating-content/markdown-cheat-sheet\">Markdown syntax</a></li>\n",
    "</ul>\n",
    "</div>"
   ]
  },
  {
   "cell_type": "code",
   "execution_count": 1,
   "metadata": {
    "collapsed": true
   },
   "outputs": [],
   "source": [
    "import pandas as pd\n",
    "\n",
    "df = pd.read_csv('data/human_body_temperature.csv')"
   ]
  },
  {
   "cell_type": "code",
   "execution_count": 84,
   "metadata": {
    "collapsed": true
   },
   "outputs": [],
   "source": [
    "%matplotlib inline\n",
    "import numpy as np\n",
    "import math\n",
    "import matplotlib.pyplot as plt\n",
    "from scipy import stats \n",
    "from statsmodels.stats.weightstats import ztest\n",
    "\n",
    "plt.style.use('ggplot')"
   ]
  },
  {
   "cell_type": "markdown",
   "metadata": {},
   "source": [
    "# Is the distribution of body temperatures normal?"
   ]
  },
  {
   "cell_type": "code",
   "execution_count": 10,
   "metadata": {},
   "outputs": [
    {
     "data": {
      "text/plain": [
       "<matplotlib.text.Text at 0x7f1ef0c20ef0>"
      ]
     },
     "execution_count": 10,
     "metadata": {},
     "output_type": "execute_result"
    },
    {
     "data": {
      "image/png": "[encoded data removed]",
      "text/plain": [
       "<matplotlib.figure.Figure at 0x7f1ef0cc7550>"
      ]
     },
     "metadata": {},
     "output_type": "display_data"
    }
   ],
   "source": [
    "df['temperature'].plot(kind='hist', bins=30)\n",
    "plt.xlabel(\"Temp in F\")\n",
    "plt.ylabel(\"Frequency\")\n",
    "plt.title(\"Histogram\")"
   ]
  },
  {
   "cell_type": "code",
   "execution_count": 32,
   "metadata": {},
   "outputs": [
    {
     "name": "stdout",
     "output_type": "stream",
     "text": [
      "Reject the null - Not normal distribution: (p = 0.2587479863488254)\n"
     ]
    }
   ],
   "source": [
    "# How to test normality https://docs.scipy.org/doc/scipy-0.14.0/reference/generated/scipy.stats.mstats.normaltest.html\n",
    "normal = stats.mstats.normaltest(df['temperature'])\n",
    "if normal.pvalue >= .05: \n",
    "    print(\"Reject the null - Not normal distribution: (p = {0})\".format(normal.pvalue))\n",
    "else: \n",
    "    print(\"Retain the null - Normal distribution: p = {0}\".format(normal.pvalue))"
   ]
  },
  {
   "cell_type": "markdown",
   "metadata": {},
   "source": [
    "# Is the sample size large?"
   ]
  },
  {
   "cell_type": "code",
   "execution_count": 39,
   "metadata": {},
   "outputs": [
    {
     "name": "stdout",
     "output_type": "stream",
     "text": [
      "Sample size: 130\n",
      "Depending on where you look a sample size of 30 is recommended for CLT so 130 is big enough althoughI'm not sure I'd say that's really large.\n"
     ]
    }
   ],
   "source": [
    "print(\"Sample size: {0}\".format(df.shape[0]))\n",
    "print(\"Depending on where you look a sample size of 30 is recommended for CLT so 130 is big enough although\" +\n",
    "      \"I'm not sure I'd say that's really large.\"\n",
    "     )"
   ]
  },
  {
   "cell_type": "markdown",
   "metadata": {},
   "source": [
    "#  Are the observations independent?\n",
    "    The index is set on import import with no definite ID in the file so my best guess is that the observations are independent."
   ]
  },
  {
   "cell_type": "markdown",
   "metadata": {},
   "source": [
    "# Is the true population mean really 98.6 degrees F?"
   ]
  },
  {
   "cell_type": "markdown",
   "metadata": {},
   "source": [
    "    Would you use a one-sample or two-sample test? Why?\n",
    "    -- Since we are looking at the true population mean you would use a one-sample test. "
   ]
  },
  {
   "cell_type": "markdown",
   "metadata": {},
   "source": [
    "    In this situation, is it appropriate to use the  t  or  z  statistic?\n",
    "    \n",
    "    --Sample size > 30 so a Z-Score is more appropriate\n",
    "    Source: http://www.statisticshowto.com/when-to-use-a-t-score-vs-z-score/"
   ]
  },
  {
   "cell_type": "code",
   "execution_count": 69,
   "metadata": {
    "collapsed": true
   },
   "outputs": [],
   "source": [
    "# Z-statistic \n",
    "zscore = ztest(df['temperature'], value = 98.6)\n",
    "\n",
    "# T-statistic\n",
    "tscore = stats.ttest_1samp(df['temperature'], 98.6)"
   ]
  },
  {
   "cell_type": "code",
   "execution_count": 71,
   "metadata": {},
   "outputs": [
    {
     "name": "stdout",
     "output_type": "stream",
     "text": [
      "Z-score:-5.4548232923645195; T-score:-5.4548232923645195\n"
     ]
    }
   ],
   "source": [
    "print('Z-score:{0}; T-score:{1}'.format(zscore[0], tscore.statistic))"
   ]
  },
  {
   "cell_type": "markdown",
   "metadata": {},
   "source": [
    "    The test values aren't different.  You can convert T-scores into z-scores with the equation T = (Z x 10) + 50.\n",
    "    As far as I know, the t / z distributions just have different means/std.  Since you can \n",
    "    convert between the two I'm not sure that you could end up with one being significant and the other not.  It's \n",
    "    just a matter of metric."
   ]
  },
  {
   "cell_type": "markdown",
   "metadata": {},
   "source": [
    "# At what temperature should we consider someone's temperature to be \"abnormal\"?"
   ]
  },
  {
   "cell_type": "code",
   "execution_count": 86,
   "metadata": {},
   "outputs": [
    {
     "name": "stdout",
     "output_type": "stream",
     "text": [
      "Using a 95% CI: Temps below 98.12319642818166 or above 98.3752651102799 are abnormal\n"
     ]
    }
   ],
   "source": [
    "# http://adventuresinpython.blogspot.com/2012/12/confidence-intervals-in-python.html\n",
    "\n",
    "abnormal = stats.norm.interval(0.95, loc=df['temperature'].mean(), scale=df['temperature'].std()/math.sqrt(len(df['temperature'])))\n",
    "print(\"Using a 95% CI: Temps below {0} or above {1} are abnormal\".format(abnormal[0], abnormal[1]))"
   ]
  },
  {
   "cell_type": "markdown",
   "metadata": {},
   "source": [
    "# Is there a significant difference between males and females in normal temperature?"
   ]
  },
  {
   "cell_type": "code",
   "execution_count": 115,
   "metadata": {
    "collapsed": true
   },
   "outputs": [],
   "source": [
    "males = df[df['gender'] == 'M']['temperature']\n",
    "females = df[df['gender'] == 'F']['temperature']"
   ]
  },
  {
   "cell_type": "code",
   "execution_count": 119,
   "metadata": {},
   "outputs": [
    {
     "data": {
      "text/plain": [
       "Ttest_indResult(statistic=-2.2854345381656103, pvalue=0.023931883122395609)"
      ]
     },
     "execution_count": 119,
     "metadata": {},
     "output_type": "execute_result"
    }
   ],
   "source": [
    "diff = stats.ttest_ind(males, females)\n",
    "diff"
   ]
  },
  {
   "cell_type": "code",
   "execution_count": 121,
   "metadata": {},
   "outputs": [
    {
     "name": "stdout",
     "output_type": "stream",
     "text": [
      "98.1046153846154\n",
      "98.39384615384613\n"
     ]
    }
   ],
   "source": [
    "print(males.mean())\n",
    "print(females.mean())"
   ]
  },
  {
   "cell_type": "markdown",
   "metadata": {},
   "source": [
    "There is a statistically significant difference (p=.02) such that women (M=98.29) have a slightly higher average temperature than men (M=98.11)."
   ]
  }
 ],
 "metadata": {
  "kernelspec": {
   "display_name": "Python 3",
   "language": "python",
   "name": "python3"
  },
  "language_info": {
   "codemirror_mode": {
    "name": "ipython",
    "version": 3
   },
   "file_extension": ".py",
   "mimetype": "text/x-python",
   "name": "python",
   "nbconvert_exporter": "python",
   "pygments_lexer": "ipython3",
   "version": "3.6.1"
  }
 },
 "nbformat": 4,
 "nbformat_minor": 1
}
