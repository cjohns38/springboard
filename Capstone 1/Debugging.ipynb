{
 "cells": [
  {
   "cell_type": "code",
   "execution_count": 86,
   "metadata": {},
   "outputs": [
    {
     "name": "stdout",
     "output_type": "stream",
     "text": [
      "MmCorpus(974 documents, 25184 features, 451904 non-zero entries)\n"
     ]
    }
   ],
   "source": [
    "import pickle \n",
    "import pandas as pd\n",
    "from gensim import corpora, models, similarities\n",
    "\n",
    "jobs = pickle.load(open('lookuptable', 'rb'))\n",
    "\n",
    "# Import the dictionaryy and corpus \n",
    "dictionary = corpora.Dictionary.load('onet.dict')\n",
    "words = pd.DataFrame([{'keys':v, 'value':k} for k, v in dictionary.token2id.items()]) # Word lookup\n",
    "corpus = corpora.MmCorpus('onet_corpus.mm') # comes from the first tutorial, \"Corpora and Vector Space\"\n",
    "\n",
    "print(corpus)"
   ]
  },
  {
   "cell_type": "code",
   "execution_count": 87,
   "metadata": {
    "collapsed": true
   },
   "outputs": [],
   "source": [
    "# Build a model \n",
    "\n",
    "lsi = models.LsiModel(corpus, id2word=dictionary, num_topics=200)\n",
    "\n",
    "index = similarities.MatrixSimilarity(lsi[corpus])\n",
    "index.save('onet.index')\n",
    "index = similarities.MatrixSimilarity.load('onet.index')"
   ]
  },
  {
   "cell_type": "code",
   "execution_count": 88,
   "metadata": {
    "collapsed": true
   },
   "outputs": [],
   "source": [
    "# Example doc\n",
    "# not bad - \"using a hammer and working with tools\"\n",
    "\n",
    "# Bad  - \"dancing, music, paint, art\"\n",
    "\n",
    "doc = \"microsoft, adobe\"\n",
    "vec_bow = dictionary.doc2bow(doc.split())\n",
    "vec_lsi = lsi[vec_bow]"
   ]
  },
  {
   "cell_type": "code",
   "execution_count": 89,
   "metadata": {
    "collapsed": true
   },
   "outputs": [],
   "source": [
    "# Turn vec_lsi (ie list of words) into a dataframe\n",
    "df = pd.DataFrame([{'keys':x[0], 'values':x[1]} for x in vec_lsi])"
   ]
  },
  {
   "cell_type": "code",
   "execution_count": 90,
   "metadata": {},
   "outputs": [
    {
     "data": {
      "text/html": [
       "<div>\n",
       "<style>\n",
       "    .dataframe thead tr:only-child th {\n",
       "        text-align: right;\n",
       "    }\n",
       "\n",
       "    .dataframe thead th {\n",
       "        text-align: left;\n",
       "    }\n",
       "\n",
       "    .dataframe tbody tr th {\n",
       "        vertical-align: top;\n",
       "    }\n",
       "</style>\n",
       "<table border=\"1\" class=\"dataframe\">\n",
       "  <thead>\n",
       "    <tr style=\"text-align: right;\">\n",
       "      <th></th>\n",
       "      <th>keys</th>\n",
       "      <th>values</th>\n",
       "      <th>value</th>\n",
       "    </tr>\n",
       "  </thead>\n",
       "  <tbody>\n",
       "    <tr>\n",
       "      <th>9</th>\n",
       "      <td>9</td>\n",
       "      <td>0.284346</td>\n",
       "      <td>focus</td>\n",
       "    </tr>\n",
       "    <tr>\n",
       "      <th>7</th>\n",
       "      <td>7</td>\n",
       "      <td>0.169996</td>\n",
       "      <td>preferences</td>\n",
       "    </tr>\n",
       "    <tr>\n",
       "      <th>5</th>\n",
       "      <td>5</td>\n",
       "      <td>0.156024</td>\n",
       "      <td>service</td>\n",
       "    </tr>\n",
       "    <tr>\n",
       "      <th>32</th>\n",
       "      <td>32</td>\n",
       "      <td>0.110256</td>\n",
       "      <td>profitability</td>\n",
       "    </tr>\n",
       "    <tr>\n",
       "      <th>11</th>\n",
       "      <td>11</td>\n",
       "      <td>0.082093</td>\n",
       "      <td>direct</td>\n",
       "    </tr>\n",
       "    <tr>\n",
       "      <th>25</th>\n",
       "      <td>25</td>\n",
       "      <td>0.075074</td>\n",
       "      <td>discount</td>\n",
       "    </tr>\n",
       "    <tr>\n",
       "      <th>33</th>\n",
       "      <td>33</td>\n",
       "      <td>0.068091</td>\n",
       "      <td>accounting</td>\n",
       "    </tr>\n",
       "    <tr>\n",
       "      <th>24</th>\n",
       "      <td>24</td>\n",
       "      <td>0.060665</td>\n",
       "      <td>schedules</td>\n",
       "    </tr>\n",
       "    <tr>\n",
       "      <th>57</th>\n",
       "      <td>57</td>\n",
       "      <td>0.060100</td>\n",
       "      <td>business</td>\n",
       "    </tr>\n",
       "    <tr>\n",
       "      <th>54</th>\n",
       "      <td>54</td>\n",
       "      <td>0.056819</td>\n",
       "      <td>ensure</td>\n",
       "    </tr>\n",
       "    <tr>\n",
       "      <th>39</th>\n",
       "      <td>39</td>\n",
       "      <td>0.055960</td>\n",
       "      <td>consult</td>\n",
       "    </tr>\n",
       "    <tr>\n",
       "      <th>43</th>\n",
       "      <td>43</td>\n",
       "      <td>0.055520</td>\n",
       "      <td>advertising</td>\n",
       "    </tr>\n",
       "    <tr>\n",
       "      <th>0</th>\n",
       "      <td>0</td>\n",
       "      <td>0.053358</td>\n",
       "      <td>resolve</td>\n",
       "    </tr>\n",
       "    <tr>\n",
       "      <th>14</th>\n",
       "      <td>14</td>\n",
       "      <td>0.048906</td>\n",
       "      <td>involving</td>\n",
       "    </tr>\n",
       "    <tr>\n",
       "      <th>45</th>\n",
       "      <td>45</td>\n",
       "      <td>0.037667</td>\n",
       "      <td>information</td>\n",
       "    </tr>\n",
       "    <tr>\n",
       "      <th>31</th>\n",
       "      <td>31</td>\n",
       "      <td>0.035176</td>\n",
       "      <td>project</td>\n",
       "    </tr>\n",
       "    <tr>\n",
       "      <th>86</th>\n",
       "      <td>86</td>\n",
       "      <td>0.033742</td>\n",
       "      <td>types</td>\n",
       "    </tr>\n",
       "    <tr>\n",
       "      <th>146</th>\n",
       "      <td>146</td>\n",
       "      <td>0.032634</td>\n",
       "      <td>eden</td>\n",
       "    </tr>\n",
       "    <tr>\n",
       "      <th>37</th>\n",
       "      <td>37</td>\n",
       "      <td>0.031896</td>\n",
       "      <td>operations</td>\n",
       "    </tr>\n",
       "    <tr>\n",
       "      <th>136</th>\n",
       "      <td>136</td>\n",
       "      <td>0.031334</td>\n",
       "      <td>contact</td>\n",
       "    </tr>\n",
       "  </tbody>\n",
       "</table>\n",
       "</div>"
      ],
      "text/plain": [
       "     keys    values          value\n",
       "9       9  0.284346          focus\n",
       "7       7  0.169996    preferences\n",
       "5       5  0.156024        service\n",
       "32     32  0.110256  profitability\n",
       "11     11  0.082093         direct\n",
       "25     25  0.075074       discount\n",
       "33     33  0.068091     accounting\n",
       "24     24  0.060665      schedules\n",
       "57     57  0.060100       business\n",
       "54     54  0.056819         ensure\n",
       "39     39  0.055960        consult\n",
       "43     43  0.055520    advertising\n",
       "0       0  0.053358        resolve\n",
       "14     14  0.048906      involving\n",
       "45     45  0.037667    information\n",
       "31     31  0.035176        project\n",
       "86     86  0.033742          types\n",
       "146   146  0.032634           eden\n",
       "37     37  0.031896     operations\n",
       "136   136  0.031334        contact"
      ]
     },
     "execution_count": 90,
     "metadata": {},
     "output_type": "execute_result"
    }
   ],
   "source": [
    "# Merge in the words and sort in descending order\n",
    "df = df.merge(words, \n",
    "         left_on = 'keys', \n",
    "         right_on = 'keys', \n",
    "         how = 'left', \n",
    "        )\n",
    "\n",
    "df.sort_values('values', ascending = False)[:20]"
   ]
  },
  {
   "cell_type": "code",
   "execution_count": 91,
   "metadata": {
    "collapsed": true
   },
   "outputs": [],
   "source": [
    "def lookupJob(doc): \n",
    "    # Test example \n",
    "    doc = doc.lower().replace(\",\",\"\").replace(\".\",\"\").replace(\";\",\"\").replace(\"\\n\",\"\").replace(\"\\\\\", \"\")\n",
    "    print(\"Using string: {0}\\n\".format(doc))\n",
    "    vec_bow = dictionary.doc2bow(doc.split())\n",
    "    vec_lsi = lsi[vec_bow] # convert the query to LSI space\n",
    "\n",
    "    sims = index[vec_lsi] # perform a similarity query against the corpus\n",
    "    sims = sorted(enumerate(sims), key=lambda item: -item[1])\n",
    "    \n",
    "    # Print out the top 5 jobs \n",
    "    for x in sims[:10]: \n",
    "        idx = x[0]\n",
    "        job = jobs[idx]\n",
    "        print(job['title'], (x[0], x[1]))"
   ]
  },
  {
   "cell_type": "code",
   "execution_count": 92,
   "metadata": {},
   "outputs": [
    {
     "name": "stdout",
     "output_type": "stream",
     "text": [
      "Using string: microsoft adobe\n",
      "\n",
      "Aircraft Mechanics and Service Technicians (768, 0.62871486)\n",
      "Animal Scientists (214, 0.62647748)\n",
      "Methane/Landfill Gas Collection System Operators (18, 0.61470193)\n",
      "Instructional Coordinators (354, 0.61350328)\n",
      "Stationary Engineers and Boiler Operators (878, 0.5824883)\n",
      "Computer Hardware Engineers (154, 0.5618853)\n",
      "Business Teachers, Postsecondary (296, 0.55614662)\n",
      "Refractory Materials Repairers, Except Brickmasons (791, 0.54400772)\n",
      "Insurance Underwriters (99, 0.53936934)\n",
      "Security Managers (54, 0.53617871)\n"
     ]
    }
   ],
   "source": [
    "lookupJob(doc)"
   ]
  },
  {
   "cell_type": "code",
   "execution_count": null,
   "metadata": {
    "collapsed": true
   },
   "outputs": [],
   "source": []
  }
 ],
 "metadata": {
  "kernelspec": {
   "display_name": "Python 3",
   "language": "python",
   "name": "python3"
  },
  "language_info": {
   "codemirror_mode": {
    "name": "ipython",
    "version": 3
   },
   "file_extension": ".py",
   "mimetype": "text/x-python",
   "name": "python",
   "nbconvert_exporter": "python",
   "pygments_lexer": "ipython3",
   "version": "3.6.1"
  }
 },
 "nbformat": 4,
 "nbformat_minor": 2
}
