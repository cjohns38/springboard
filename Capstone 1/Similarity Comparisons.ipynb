{
 "cells": [
  {
   "cell_type": "code",
   "execution_count": 1,
   "metadata": {
    "collapsed": true
   },
   "outputs": [],
   "source": [
    "import logging\n",
    "logging.basicConfig(format='%(asctime)s : %(levelname)s : %(message)s', level=logging.INFO)"
   ]
  },
  {
   "cell_type": "code",
   "execution_count": 2,
   "metadata": {},
   "outputs": [
    {
     "name": "stderr",
     "output_type": "stream",
     "text": [
      "2017-10-15 21:52:13,416 : INFO : 'pattern' package not found; tag filters are not available for English\n",
      "2017-10-15 21:52:13,422 : INFO : loading Dictionary object from onet.dict\n",
      "2017-10-15 21:52:13,435 : INFO : loaded onet.dict\n",
      "2017-10-15 21:52:13,439 : INFO : loaded corpus index from onet_corpus.mm.index\n",
      "2017-10-15 21:52:13,440 : INFO : initializing corpus reader from onet_corpus.mm\n",
      "2017-10-15 21:52:13,442 : INFO : accepted corpus with 974 documents, 25184 features, 451904 non-zero entries\n"
     ]
    },
    {
     "name": "stdout",
     "output_type": "stream",
     "text": [
      "MmCorpus(974 documents, 25184 features, 451904 non-zero entries)\n"
     ]
    }
   ],
   "source": [
    "from gensim import corpora, models, similarities\n",
    "\n",
    "# Import the dictionaryy and corpus \n",
    "dictionary = corpora.Dictionary.load('onet.dict')\n",
    "corpus = corpora.MmCorpus('onet_corpus.mm') # comes from the first tutorial, \"Corpora and Vector Space\"\n",
    "print(corpus)"
   ]
  },
  {
   "cell_type": "code",
   "execution_count": 35,
   "metadata": {},
   "outputs": [
    {
     "name": "stderr",
     "output_type": "stream",
     "text": [
      "2017-10-15 21:55:55,203 : INFO : using serial LSI version on this node\n",
      "2017-10-15 21:55:55,211 : INFO : updating model with new documents\n",
      "2017-10-15 21:55:56,466 : INFO : preparing a new chunk of documents\n",
      "2017-10-15 21:55:56,555 : INFO : using 100 extra samples and 2 power iterations\n",
      "2017-10-15 21:55:56,558 : INFO : 1st phase: constructing (25184, 130) action matrix\n",
      "2017-10-15 21:55:56,624 : INFO : orthonormalizing (25184, 130) action matrix\n",
      "2017-10-15 21:55:57,400 : INFO : 2nd phase: running dense svd on (130, 974) matrix\n",
      "2017-10-15 21:55:57,518 : INFO : computing the final decomposition\n",
      "2017-10-15 21:55:57,519 : INFO : keeping 30 factors (discarding 12.946% of energy spectrum)\n",
      "2017-10-15 21:55:57,547 : INFO : processed documents up to #974\n",
      "2017-10-15 21:55:57,552 : INFO : topic #0(1011.372): 0.344*\"time\" + 0.311*\"equipment\" + 0.274*\"exposed\" + 0.274*\"spend\" + 0.225*\"software\" + 0.186*\"safety\" + 0.156*\"microsoft\" + 0.154*\"work\" + 0.146*\"systems\" + 0.123*\"others\"\n",
      "2017-10-15 21:55:57,556 : INFO : topic #1(323.495): 0.580*\"software\" + 0.265*\"microsoft\" + 0.250*\"systems\" + -0.189*\"equipment\" + 0.185*\"adobe\" + -0.153*\"using\" + 0.153*\"management\" + 0.145*\"oracle\" + -0.135*\"machines\" + 0.131*\"language\"\n",
      "2017-10-15 21:55:57,563 : INFO : topic #2(215.549): -0.384*\"software\" + -0.225*\"tools\" + -0.215*\"using\" + -0.179*\"wrenches\" + -0.173*\"machines\" + -0.154*\"power\" + -0.142*\"hand\" + -0.131*\"gauges\" + -0.129*\"equipment\" + -0.126*\"control\"\n",
      "2017-10-15 21:55:57,567 : INFO : topic #3(177.941): -0.569*\"adobe\" + 0.449*\"software\" + -0.398*\"systems\" + -0.160*\"microsoft\" + 0.129*\"medical\" + 0.111*\"patients\" + 0.106*\"equipment\" + -0.094*\"design\" + 0.092*\"scientific\" + -0.089*\"using\"\n",
      "2017-10-15 21:55:57,572 : INFO : topic #4(162.040): 0.421*\"systems\" + 0.365*\"equipment\" + -0.184*\"machines\" + -0.157*\"microsoft\" + -0.133*\"oracle\" + 0.127*\"laboratory\" + -0.119*\"time\" + -0.114*\"exposed\" + -0.114*\"spend\" + 0.110*\"microscopes\"\n"
     ]
    }
   ],
   "source": [
    "# Create a lsi model with 200 topics \n",
    "lsi = models.LsiModel(corpus, id2word=dictionary, num_topics=30)"
   ]
  },
  {
   "cell_type": "code",
   "execution_count": 36,
   "metadata": {},
   "outputs": [
    {
     "name": "stderr",
     "output_type": "stream",
     "text": [
      "2017-10-15 21:56:08,298 : WARNING : scanning corpus to determine the number of features (consider setting `num_features` explicitly)\n",
      "2017-10-15 21:56:09,642 : INFO : creating matrix with 974 documents and 30 features\n",
      "2017-10-15 21:56:10,996 : INFO : saving MatrixSimilarity object under onet.index, separately None\n",
      "2017-10-15 21:56:10,998 : INFO : saved onet.index\n"
     ]
    }
   ],
   "source": [
    "# Create an index\n",
    "index = similarities.MatrixSimilarity(lsi[corpus]) # transform corpus to LSI space and index it\n",
    "index.save('onet.index')"
   ]
  },
  {
   "cell_type": "code",
   "execution_count": 37,
   "metadata": {
    "collapsed": true
   },
   "outputs": [],
   "source": [
    "import pickle \n",
    "jobs = pickle.load(open('lookuptable', 'rb'))"
   ]
  },
  {
   "cell_type": "code",
   "execution_count": 49,
   "metadata": {},
   "outputs": [],
   "source": [
    "def lookupJob(doc): \n",
    "    # Test example \n",
    "    doc = doc.lower().replace(\",\",\"\").replace(\".\",\"\").replace(\";\",\"\").replace(\"\\n\",\"\").replace(\"\\\\\", \"\")\n",
    "    print(\"Using string: {0}\\n\".format(doc))\n",
    "    vec_bow = dictionary.doc2bow(doc.split())\n",
    "    vec_lsi = lsi[vec_bow] # convert the query to LSI space\n",
    "\n",
    "    sims = index[vec_lsi] # perform a similarity query against the corpus\n",
    "    sims = sorted(enumerate(sims), key=lambda item: -item[1])\n",
    "    \n",
    "    # Print out the top 5 jobs \n",
    "    for x in sims[:10]: \n",
    "        idx = x[0]\n",
    "        job = jobs[idx]\n",
    "        print(job['title'], (x[0], x[1]))"
   ]
  },
  {
   "cell_type": "code",
   "execution_count": 50,
   "metadata": {},
   "outputs": [
    {
     "name": "stdout",
     "output_type": "stream",
     "text": [
      "Using string: apply principles of psychology to human resources administration management sales and marketing problems activities may include policy planning employee testing and selection training and development and organizational development and analysis may work with management to organize the work setting to improve worker productivity\n",
      "\n",
      "Wind Energy Operations Managers (56, 0.70923334)\n",
      "Geothermal Technicians (808, 0.66917473)\n",
      "Electrical and Electronic Equipment Assemblers (812, 0.63415909)\n",
      "Mechatronics Engineers (178, 0.61916822)\n",
      "Legislators (3, 0.6114952)\n",
      "Aircraft Structure, Surfaces, Rigging, and Systems Assemblers (810, 0.6059534)\n",
      "Nanosystems Engineers (182, 0.59332711)\n",
      "Microsystems Engineers (179, 0.59007519)\n",
      "Wind Energy Project Managers (57, 0.58043796)\n",
      "Licensed Practical and Licensed Vocational Nurses (472, 0.57668948)\n"
     ]
    }
   ],
   "source": [
    "# Test example \n",
    "doc = \"Apply principles of psychology to human resources, administration, management, sales, and marketing problems. Activities may include policy planning; employee testing and selection, training and development; and organizational development and analysis. May work with management to organize the work setting to improve worker productivity\"\n",
    "lookupJob(doc)"
   ]
  },
  {
   "cell_type": "code",
   "execution_count": 51,
   "metadata": {},
   "outputs": [
    {
     "name": "stdout",
     "output_type": "stream",
     "text": [
      "Using string: identify relationships and trends in data as well as any factors that could affect the results of research\n",
      "\n",
      "Forging Machine Setters, Operators, and Tenders, Metal and Plastic (829, 0.58304089)\n",
      "Metal-Refining Furnace Operators and Tenders (837, 0.56364113)\n",
      "Neurodiagnostic Technologists (477, 0.55993015)\n",
      "Locomotive Firers (938, 0.53493756)\n",
      "Nuclear Power Reactor Operators (875, 0.52498174)\n",
      "Cutting, Punching, and Press Machine Setters, Operators, and Tenders, Metal and Plastic (831, 0.5237698)\n",
      "Genetic Counselors (484, 0.52286202)\n",
      "Rail Yard Engineers, Dinkey Operators, and Hostlers (939, 0.52191412)\n",
      "Technical Writers (389, 0.4916237)\n",
      "Bus Drivers, Transit and Intercity (931, 0.48261553)\n"
     ]
    }
   ],
   "source": [
    "lookupJob(\"Identify relationships and trends in data, as well as any factors that could affect the results of research.\")"
   ]
  },
  {
   "cell_type": "code",
   "execution_count": 52,
   "metadata": {},
   "outputs": [
    {
     "name": "stdout",
     "output_type": "stream",
     "text": [
      "Using string: psychology\n",
      "\n",
      "Loading Machine Operators, Underground Mining (961, 0.47219452)\n",
      "Cutters and Trimmers, Hand (892, 0.45078647)\n",
      "Commercial Pilots (926, 0.43757814)\n",
      "Dental Laboratory Technicians (900, 0.43139383)\n",
      "Tax Examiners and Collectors, and Revenue Agents (104, 0.42868987)\n",
      "Pilots, Ship (946, 0.42638388)\n",
      "Environmental Science Teachers, Postsecondary (306, 0.41572848)\n",
      "Sustainability Specialists (89, 0.41425595)\n",
      "Power Distributors and Dispatchers (876, 0.41378814)\n",
      "Transportation Attendants, Except Flight Attendants (956, 0.40769976)\n"
     ]
    }
   ],
   "source": [
    "lookupJob(\"psychology\")"
   ]
  },
  {
   "cell_type": "code",
   "execution_count": 53,
   "metadata": {
    "scrolled": true
   },
   "outputs": [
    {
     "name": "stdout",
     "output_type": "stream",
     "text": [
      "Using string: equilibrium dance music\n",
      "\n",
      "Loading Machine Operators, Underground Mining (961, 0.46580502)\n",
      "Excavating and Loading Machine and Dragline Operators (960, 0.38809878)\n",
      "First-Line Supervisors of Agricultural Crop and Horticultural Workers (679, 0.33631477)\n",
      "Tax Examiners and Collectors, and Revenue Agents (104, 0.31844962)\n",
      "Medical Transcriptionists (498, 0.29677024)\n",
      "Neurologists (418, 0.28606406)\n",
      "Cutting and Slicing Machine Setters, Operators, and Tenders (893, 0.27920157)\n",
      "Aviation Inspectors (953, 0.26303357)\n",
      "Prosthodontists (404, 0.26291731)\n",
      "Chemistry Teachers, Postsecondary (305, 0.25712022)\n"
     ]
    }
   ],
   "source": [
    "lookupJob(\"Equilibrium, dance, music\")"
   ]
  },
  {
   "cell_type": "code",
   "execution_count": 54,
   "metadata": {},
   "outputs": [
    {
     "name": "stdout",
     "output_type": "stream",
     "text": [
      "Using string: oracle database statistics\n",
      "\n",
      "Cutting, Punching, and Press Machine Setters, Operators, and Tenders, Metal and Plastic (831, 0.83310312)\n",
      "Rolling Machine Setters, Operators, and Tenders, Metal and Plastic (830, 0.70815575)\n",
      "Drilling and Boring Machine Tool Setters, Operators, and Tenders, Metal and Plastic (832, 0.66223824)\n",
      "Cost Estimators (72, 0.64837426)\n",
      "Dancers (377, 0.59044701)\n",
      "Loss Prevention Managers (55, 0.58863389)\n",
      "Coroners (70, 0.58417118)\n",
      "Grinding, Lapping, Polishing, and Buffing Machine Tool Setters, Operators, and Tenders, Metal and Plastic (833, 0.54550165)\n",
      "Electronic Equipment Installers and Repairers, Motor Vehicles (765, 0.53507018)\n",
      "Electronic Drafters (187, 0.52483523)\n"
     ]
    }
   ],
   "source": [
    "lookupJob(\"oracle, database, statistics\")"
   ]
  },
  {
   "cell_type": "code",
   "execution_count": 55,
   "metadata": {},
   "outputs": [
    {
     "name": "stdout",
     "output_type": "stream",
     "text": [
      "Using string: metal\n",
      "\n",
      "Food Servers, Nonrestaurant (546, 0.61314029)\n",
      "Cooks, Private Household (537, 0.50175118)\n",
      "Cytogenetic Technologists (454, 0.45860389)\n",
      "Dining Room and Cafeteria Attendants and Bartender Helpers (547, 0.44428283)\n",
      "Payroll and Timekeeping Clerks (622, 0.44101113)\n",
      "Patient Representatives (633, 0.43136948)\n",
      "Control and Valve Installers and Repairers, Except Mechanical Door (784, 0.42560786)\n",
      "Heating and Air Conditioning Mechanics and Installers (785, 0.39219716)\n",
      "Industrial Safety and Health Engineers (160, 0.39155632)\n",
      "Healthcare Social Workers (280, 0.38998443)\n"
     ]
    }
   ],
   "source": [
    "lookupJob(\"metal\")"
   ]
  },
  {
   "cell_type": "code",
   "execution_count": 56,
   "metadata": {},
   "outputs": [
    {
     "name": "stdout",
     "output_type": "stream",
     "text": [
      "Using string: sales\n",
      "\n",
      "Computer-Controlled Machine Tool Operators, Metal and Plastic (826, 0.53602034)\n",
      "Musical Instrument Repairers and Tuners (796, 0.52137071)\n",
      "Cashiers (592, 0.48826355)\n",
      "Insurance Policy Processing Clerks (670, 0.37978566)\n",
      "Architectural Drafters (185, 0.36035258)\n",
      "Clinical Psychologists (246, 0.3482472)\n",
      "Low Vision Therapists, Orientation and Mobility Specialists, and Vision Rehabilitation Therapists (431, 0.3471368)\n",
      "Aviation Inspectors (953, 0.33949438)\n",
      "Immigration and Customs Inspectors (518, 0.33857062)\n",
      "Farmworkers and Laborers, Crop (686, 0.33669969)\n"
     ]
    }
   ],
   "source": [
    "%timeit\n",
    "lookupJob(\"Sales\")"
   ]
  },
  {
   "cell_type": "code",
   "execution_count": 57,
   "metadata": {
    "collapsed": true
   },
   "outputs": [],
   "source": [
    "# RANDOM JOB \n",
    "\n",
    "random = \"\"\"About Us \n",
    "Amazon Aurora is an exciting new area of innovation for AWS, and the PostgreSQL-compatible edition of Amazon Aurora is the newest part of it. The PostgreSQL-compatible version of Amazon Aurora is a new relational database which offers enterprise-class performance, availability and durability - all at open source prices - to our customers, along with the management benefits of RDS. We’re a relatively new team in Database Services, one of the fastest growing businesses within Amazon Web Services. We are spread across Seattle, the Bay Area, and Boston. Not only do we have deep database and systems programming problems to solve for our customers, but we also minimize the effort required to maintain SQL databases by automating administrative tasks like backup / restore, scaling CPU / RAM / storage and replication / failover for high availability, allowing our customers to spend their valuable time focused on building their businesses. \n",
    "\n",
    "We have challenging problems to solve in distributed systems, concurrency, database internals, languages, and performance engineering. We intend to be the world's best and fastest database - come join us on the journey! \n",
    "\n",
    "For more information about RDS, please visit http://aws.amazon.com/rds . For more information about Aurora, please visit http://aws.amazon.com/rds/aurora . \n",
    "\n",
    "The Role \n",
    "This position is on an exciting new team building a highly available, very scalable, high performance database offering. We have the need for low-level systems C programmers, mid-tier high performance C++ developers, and distributed systems Java wizards. \n",
    "\n",
    "About You \n",
    "You’ve built a lot of software – shipped products, created platforms, tools and modules, perhaps worked with every framework under the sun, perhaps made everything you have touched fast as lightning. You may have built big, distributed, API-driven systems with thousands of users, or systems for billions of transactions. You’re as excited as we are about learning every day, and solving really hard engineering problems that no one else is. \n",
    "\n",
    "Passionate about software quality, repeatability, testability and maintainability, you are known to your co-workers as the go-to person for answers to questions that begin with the phrase “what’s the best way to…” – even though your answers tend to start with “help me understand what you’re trying to accomplish by…”. When you need clarity, you go to the product owner – or even a user – and talk to them until you get it. With stakeholders and other team members you are diplomatic, persuasive, and usually right. You understand the challenges associated with operating a large-scale system in production, and your designs and implementations reflect that understanding. \n",
    "\n",
    "When you’re wrong, you’re happy to learn something. You build software quickly, but properly (so that you don’t have to go back to it later). You know what “unit tests” are and don’t implement software without them. Shipping on time with high quality makes your heart feel warm. \n",
    "\n",
    "Who are you? You’re the new Software Development Engineer joining us at RDS. We work hard, have fun and make history – want to come play with us? \n",
    "\n",
    "What You’ll Do \n",
    "\n",
    "Deliver project items on-time / in-spec, communicating clearly with leads, manager and stakeholders \n",
    "Contribute to software and database architecture / design \n",
    "Contribute to and lead architecture / design conversations and code reviews (yours and other team members’) \n",
    "Work with managers and team members to estimate effort and clarify / negotiate / document scope and design \n",
    "Contribute to design, architecture, process and development standards \n",
    "Effectively mentor more junior team members, helping to maintain appropriate unit test coverage, code documentation, software structure and supportability \n",
    "Distil and communicate technical concepts to more junior developers and stakeholders \n",
    "Advise on courses of study for team members and / or self \n",
    "Argue for the right outcomes with data, conviction and diplomacy \n",
    "Identify, evaluate and suggest mitigation strategies for risks during design \n",
    "Design and implement features for new and existing products, features, APIs, platforms and frameworks \n",
    "\n",
    "Basic Qualifications \n",
    "\n",
    "Things We Like About You \n",
    "\n",
    "Your written and spoken English are excellent \n",
    "\n",
    "You’ve been developing software since you could tie your shoes or for more than 3 years, whichever is longer \n",
    "\n",
    "You are experienced with more than one of Java, C, C++ \n",
    "\n",
    "You are experienced with MySQL, PostgreSQL, Oracle, MS SQL or another \n",
    "\n",
    "You understand networking, network programming, network-oriented design patterns, distributed computing and best practices related to same \n",
    "\n",
    "You have excellent organizational, prioritization and time management skills \n",
    "\n",
    "You are familiar and comfortable with rapidly-evolving Agile development environments \n",
    "\n",
    "You have an understanding of and experience with common bug / task tracking, requirements tracking, traceability and test automation tools \n",
    "\n",
    "You have an ability to rapidly absorb and comprehend software and systems \n",
    "\n",
    "Fine Print \n",
    "The successful applicant will have a minimum of 3 years experience in software development, with at least 1 year in Enterprise / distributed systems. Post-secondary education and / or industry certification are both assets. \n",
    "\n",
    "Preferred Qualifications \n",
    "\n",
    "Desirable experience (i.e. “Stuff that will impress us”):\n",
    "Linux / UNIX system experience \n",
    "\n",
    "Developing in extremely busy, highly scalable, highly available mission-critical distributed environments \n",
    "\n",
    "Deep experience with SQL / NoSQL databases \n",
    "Extensive software / database architecture \n",
    "Hands-on experience with AWS APIs and services \n",
    "Tags: Databases, Postgres, PostgreSQL, Concurrency, Systems Programming, Storage, Availability, Durability, Performance, Internals, Oracle, SQL Server \"\"\""
   ]
  },
  {
   "cell_type": "code",
   "execution_count": 58,
   "metadata": {},
   "outputs": [
    {
     "name": "stdout",
     "output_type": "stream",
     "text": [
      "Using string: about us amazon aurora is an exciting new area of innovation for aws and the postgresql-compatible edition of amazon aurora is the newest part of it the postgresql-compatible version of amazon aurora is a new relational database which offers enterprise-class performance availability and durability - all at open source prices - to our customers along with the management benefits of rds we’re a relatively new team in database services one of the fastest growing businesses within amazon web services we are spread across seattle the bay area and boston not only do we have deep database and systems programming problems to solve for our customers but we also minimize the effort required to maintain sql databases by automating administrative tasks like backup / restore scaling cpu / ram / storage and replication / failover for high availability allowing our customers to spend their valuable time focused on building their businesses we have challenging problems to solve in distributed systems concurrency database internals languages and performance engineering we intend to be the world's best and fastest database - come join us on the journey! for more information about rds please visit http://awsamazoncom/rds  for more information about aurora please visit http://awsamazoncom/rds/aurora  the role this position is on an exciting new team building a highly available very scalable high performance database offering we have the need for low-level systems c programmers mid-tier high performance c++ developers and distributed systems java wizards about you you’ve built a lot of software – shipped products created platforms tools and modules perhaps worked with every framework under the sun perhaps made everything you have touched fast as lightning you may have built big distributed api-driven systems with thousands of users or systems for billions of transactions you’re as excited as we are about learning every day and solving really hard engineering problems that no one else is passionate about software quality repeatability testability and maintainability you are known to your co-workers as the go-to person for answers to questions that begin with the phrase “what’s the best way to…” – even though your answers tend to start with “help me understand what you’re trying to accomplish by…” when you need clarity you go to the product owner – or even a user – and talk to them until you get it with stakeholders and other team members you are diplomatic persuasive and usually right you understand the challenges associated with operating a large-scale system in production and your designs and implementations reflect that understanding when you’re wrong you’re happy to learn something you build software quickly but properly (so that you don’t have to go back to it later) you know what “unit tests” are and don’t implement software without them shipping on time with high quality makes your heart feel warm who are you? you’re the new software development engineer joining us at rds we work hard have fun and make history – want to come play with us? what you’ll do deliver project items on-time / in-spec communicating clearly with leads manager and stakeholders contribute to software and database architecture / design contribute to and lead architecture / design conversations and code reviews (yours and other team members’) work with managers and team members to estimate effort and clarify / negotiate / document scope and design contribute to design architecture process and development standards effectively mentor more junior team members helping to maintain appropriate unit test coverage code documentation software structure and supportability distil and communicate technical concepts to more junior developers and stakeholders advise on courses of study for team members and / or self argue for the right outcomes with data conviction and diplomacy identify evaluate and suggest mitigation strategies for risks during design design and implement features for new and existing products features apis platforms and frameworks basic qualifications things we like about you your written and spoken english are excellent you’ve been developing software since you could tie your shoes or for more than 3 years whichever is longer you are experienced with more than one of java c c++ you are experienced with mysql postgresql oracle ms sql or another you understand networking network programming network-oriented design patterns distributed computing and best practices related to same you have excellent organizational prioritization and time management skills you are familiar and comfortable with rapidly-evolving agile development environments you have an understanding of and experience with common bug / task tracking requirements tracking traceability and test automation tools you have an ability to rapidly absorb and comprehend software and systems fine print the successful applicant will have a minimum of 3 years experience in software development with at least 1 year in enterprise / distributed systems post-secondary education and / or industry certification are both assets preferred qualifications desirable experience (ie “stuff that will impress us”):linux / unix system experience developing in extremely busy highly scalable highly available mission-critical distributed environments deep experience with sql / nosql databases extensive software / database architecture hands-on experience with aws apis and services tags: databases postgres postgresql concurrency systems programming storage availability durability performance internals oracle sql server \n",
      "\n",
      "Labor Relations Specialists (75, 0.86386257)\n",
      "Electrical Drafters (188, 0.85432673)\n",
      "Regulatory Affairs Specialists (71, 0.82656848)\n",
      "Electronic Home Entertainment Equipment Installers and Repairers (766, 0.824283)\n",
      "Human Resources Specialists (73, 0.82005292)\n",
      "Lawyers (288, 0.81212497)\n",
      "Electronic Drafters (187, 0.81187147)\n",
      "Civil Drafters (186, 0.80965853)\n",
      "Heat Treating Equipment Setters, Operators, and Tenders, Metal and Plastic (848, 0.80128676)\n",
      "Logistics Analysts (78, 0.7920121)\n"
     ]
    }
   ],
   "source": [
    "lookupJob(random)"
   ]
  },
  {
   "cell_type": "code",
   "execution_count": null,
   "metadata": {
    "collapsed": true
   },
   "outputs": [],
   "source": []
  }
 ],
 "metadata": {
  "kernelspec": {
   "display_name": "Python 3",
   "language": "python",
   "name": "python3"
  },
  "language_info": {
   "codemirror_mode": {
    "name": "ipython",
    "version": 3
   },
   "file_extension": ".py",
   "mimetype": "text/x-python",
   "name": "python",
   "nbconvert_exporter": "python",
   "pygments_lexer": "ipython3",
   "version": "3.6.1"
  }
 },
 "nbformat": 4,
 "nbformat_minor": 2
}
