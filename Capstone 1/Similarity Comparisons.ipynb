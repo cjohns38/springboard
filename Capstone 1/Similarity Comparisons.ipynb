{
 "cells": [
  {
   "cell_type": "code",
   "execution_count": 63,
   "metadata": {
    "collapsed": true
   },
   "outputs": [],
   "source": [
    "import logging\n",
    "logging.basicConfig(format='%(asctime)s : %(levelname)s : %(message)s', level=logging.INFO)"
   ]
  },
  {
   "cell_type": "code",
   "execution_count": 64,
   "metadata": {},
   "outputs": [
    {
     "name": "stderr",
     "output_type": "stream",
     "text": [
      "2017-10-08 13:46:04,798 : INFO : loading Dictionary object from onet.dict\n",
      "2017-10-08 13:46:04,813 : INFO : loaded onet.dict\n",
      "2017-10-08 13:46:04,815 : INFO : loaded corpus index from onet_corpus.mm.index\n",
      "2017-10-08 13:46:04,816 : INFO : initializing corpus reader from onet_corpus.mm\n",
      "2017-10-08 13:46:04,823 : INFO : accepted corpus with 974 documents, 17354 features, 457991 non-zero entries\n"
     ]
    },
    {
     "name": "stdout",
     "output_type": "stream",
     "text": [
      "MmCorpus(974 documents, 17354 features, 457991 non-zero entries)\n"
     ]
    }
   ],
   "source": [
    "from gensim import corpora, models, similarities\n",
    "\n",
    "# Import the dictionaryy and corpus \n",
    "dictionary = corpora.Dictionary.load('onet.dict')\n",
    "corpus = corpora.MmCorpus('onet_corpus.mm') # comes from the first tutorial, \"Corpora and Vector Space\"\n",
    "print(corpus)"
   ]
  },
  {
   "cell_type": "code",
   "execution_count": 65,
   "metadata": {},
   "outputs": [
    {
     "name": "stderr",
     "output_type": "stream",
     "text": [
      "2017-10-08 13:46:04,837 : INFO : using serial LSI version on this node\n",
      "2017-10-08 13:46:04,838 : INFO : updating model with new documents\n",
      "2017-10-08 13:46:06,090 : INFO : preparing a new chunk of documents\n",
      "2017-10-08 13:46:06,177 : INFO : using 100 extra samples and 2 power iterations\n",
      "2017-10-08 13:46:06,178 : INFO : 1st phase: constructing (17354, 400) action matrix\n",
      "2017-10-08 13:46:06,340 : INFO : orthonormalizing (17354, 400) action matrix\n",
      "2017-10-08 13:46:08,521 : INFO : 2nd phase: running dense svd on (400, 974) matrix\n",
      "2017-10-08 13:46:08,704 : INFO : computing the final decomposition\n",
      "2017-10-08 13:46:08,705 : INFO : keeping 300 factors (discarding 2.327% of energy spectrum)\n",
      "2017-10-08 13:46:08,869 : INFO : processed documents up to #974\n",
      "2017-10-08 13:46:08,875 : INFO : topic #0(973.809): 0.357*\"time\" + 0.285*\"exposed\" + 0.284*\"spend\" + 0.284*\"equipment\" + 0.230*\"software\" + 0.190*\"safety\" + 0.162*\"microsoft\" + 0.153*\"work\" + 0.134*\"systems\" + 0.101*\"using\"\n",
      "2017-10-08 13:46:08,876 : INFO : topic #1(308.277): 0.605*\"software\" + 0.275*\"microsoft\" + 0.240*\"systems\" + 0.195*\"adobe\" + 0.156*\"oracle\" + -0.152*\"using\" + 0.150*\"management\" + -0.149*\"equipment\" + 0.138*\"language\" + -0.110*\"time\"\n",
      "2017-10-08 13:46:08,885 : INFO : topic #2(198.906): 0.430*\"software\" + 0.231*\"using\" + 0.196*\"wrenches\" + 0.169*\"power\" + -0.153*\"adobe\" + 0.153*\"hand\" + 0.148*\"tools\" + 0.146*\"control\" + 0.140*\"machines\" + 0.131*\"gauges\"\n",
      "2017-10-08 13:46:08,889 : INFO : topic #3(172.808): 0.588*\"adobe\" + -0.370*\"software\" + 0.338*\"systems\" + 0.171*\"microsoft\" + 0.155*\"using\" + -0.134*\"medical\" + 0.109*\"language\" + 0.104*\"oracle\" + -0.091*\"scientific\" + -0.083*\"equipment\"\n",
      "2017-10-08 13:46:08,890 : INFO : topic #4(149.541): 0.439*\"systems\" + 0.278*\"equipment\" + -0.198*\"microsoft\" + 0.164*\"laboratory\" + -0.164*\"oracle\" + 0.140*\"dental\" + 0.135*\"microscopes\" + 0.120*\"digital\" + -0.112*\"time\" + 0.111*\"adobe\"\n"
     ]
    }
   ],
   "source": [
    "# Create a lsi model with 200 topics \n",
    "lsi = models.LsiModel(corpus, id2word=dictionary, num_topics=300)"
   ]
  },
  {
   "cell_type": "code",
   "execution_count": 66,
   "metadata": {},
   "outputs": [
    {
     "name": "stderr",
     "output_type": "stream",
     "text": [
      "2017-10-08 13:46:08,946 : WARNING : scanning corpus to determine the number of features (consider setting `num_features` explicitly)\n",
      "2017-10-08 13:46:10,481 : INFO : creating matrix with 974 documents and 300 features\n",
      "2017-10-08 13:46:12,176 : INFO : saving MatrixSimilarity object under onet.index, separately None\n",
      "2017-10-08 13:46:12,185 : INFO : saved onet.index\n"
     ]
    }
   ],
   "source": [
    "# Create an index\n",
    "index = similarities.MatrixSimilarity(lsi[corpus]) # transform corpus to LSI space and index it\n",
    "index.save('onet.index')"
   ]
  },
  {
   "cell_type": "code",
   "execution_count": 67,
   "metadata": {},
   "outputs": [],
   "source": [
    "# Test example \n",
    "doc = \"Apply principles of psychology to human resources, administration, management, sales, and marketing problems. Activities may include policy planning; employee testing and selection, training and development; and organizational development and analysis. May work with management to organize the work setting to improve worker productivity\"\n",
    "vec_bow = dictionary.doc2bow(doc.lower().split())\n",
    "vec_lsi = lsi[vec_bow] # convert the query to LSI space"
   ]
  },
  {
   "cell_type": "code",
   "execution_count": 68,
   "metadata": {},
   "outputs": [],
   "source": [
    "sims = index[vec_lsi] # perform a similarity query against the corpus"
   ]
  },
  {
   "cell_type": "code",
   "execution_count": 69,
   "metadata": {
    "scrolled": true
   },
   "outputs": [],
   "source": [
    "sims = sorted(enumerate(sims), key=lambda item: -item[1])"
   ]
  },
  {
   "cell_type": "code",
   "execution_count": 70,
   "metadata": {},
   "outputs": [],
   "source": [
    "import pickle \n",
    "jobs = pickle.load(open('lookuptable', 'rb'))"
   ]
  },
  {
   "cell_type": "code",
   "execution_count": 71,
   "metadata": {},
   "outputs": [
    {
     "name": "stdout",
     "output_type": "stream",
     "text": [
      "Intelligence Analysts\n",
      "Wind Energy Operations Managers\n",
      "First-Line Supervisors of Retail Sales Workers\n",
      "Dental Hygienists\n",
      "Water/Wastewater Engineers\n",
      "Naturopathic Physicians\n",
      "Sound Engineering Technicians\n",
      "Wind Energy Project Managers\n",
      "Mechatronics Engineers\n",
      "Cardiovascular Technologists and Technicians\n"
     ]
    }
   ],
   "source": [
    "# Print out the top 5 jobs \n",
    "for x in sims[:10]: \n",
    "    idx = x[0]\n",
    "    job = jobs[idx]\n",
    "    print(job['title'])"
   ]
  },
  {
   "cell_type": "code",
   "execution_count": null,
   "metadata": {
    "collapsed": true
   },
   "outputs": [],
   "source": []
  }
 ],
 "metadata": {
  "kernelspec": {
   "display_name": "Python 3",
   "language": "python",
   "name": "python3"
  },
  "language_info": {
   "codemirror_mode": {
    "name": "ipython",
    "version": 3
   },
   "file_extension": ".py",
   "mimetype": "text/x-python",
   "name": "python",
   "nbconvert_exporter": "python",
   "pygments_lexer": "ipython3",
   "version": "3.6.1"
  }
 },
 "nbformat": 4,
 "nbformat_minor": 2
}
