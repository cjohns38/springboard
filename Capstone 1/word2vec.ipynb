{
 "cells": [
  {
   "cell_type": "code",
   "execution_count": 3,
   "metadata": {
    "collapsed": true
   },
   "outputs": [],
   "source": [
    "import pickle, gensim, logging\n",
    "import pandas as pd\n",
    "import numpy as np\n",
    "from nltk.corpus import stopwords \n",
    "from gensim.models.keyedvectors import KeyedVectors\n",
    "from functions.word2vec import preprocessText, average_word_embedding, \\\n",
    "     cosine_similarity, find_jobs, listcomparision, model_comparison"
   ]
  },
  {
   "cell_type": "code",
   "execution_count": 2,
   "metadata": {
    "collapsed": true
   },
   "outputs": [],
   "source": [
    "# Set up logging for gensim\n",
    "logging.basicConfig(format='%(asctime)s : %(levelname)s : %(message)s', level=logging.INFO)"
   ]
  },
  {
   "cell_type": "markdown",
   "metadata": {},
   "source": [
    "# Import O*NET Data"
   ]
  },
  {
   "cell_type": "code",
   "execution_count": 3,
   "metadata": {
    "collapsed": true
   },
   "outputs": [],
   "source": [
    "data = pickle.load(open('onetsoccode.p', 'rb'))\n",
    "jobtitles = pickle.load(open('lookuptable', 'rb'))"
   ]
  },
  {
   "cell_type": "code",
   "execution_count": 4,
   "metadata": {
    "collapsed": true
   },
   "outputs": [],
   "source": [
    "# Convert to DF\n",
    "\n",
    "df = pd.DataFrame(data)\n",
    "df2 = pd.DataFrame(jobtitles).T\n",
    "\n",
    "data = pd.merge(df, df2, left_on = 'soc', right_on = 'soc', how = 'left')"
   ]
  },
  {
   "cell_type": "code",
   "execution_count": 5,
   "metadata": {
    "collapsed": true
   },
   "outputs": [],
   "source": [
    "# Preprocess the text data \n",
    "stopWords = stopwords.words('english')\n",
    "data['processed'] = data.apply(lambda x: preprocessText(x['text'], stopWords), axis = 1)"
   ]
  },
  {
   "cell_type": "markdown",
   "metadata": {},
   "source": [
    "# Model creation \n",
    "\n",
    "Create two different models for comparision the first using googles model and the second training a model from scratch using ONET. "
   ]
  },
  {
   "cell_type": "code",
   "execution_count": 6,
   "metadata": {},
   "outputs": [
    {
     "name": "stderr",
     "output_type": "stream",
     "text": [
      "2017-11-04 09:53:42,466 : INFO : loading projection weights from /home/craig/Documents/googledata/GoogleNews-vectors-negative300.bin\n",
      "2017-11-04 09:54:27,298 : INFO : loaded (3000000, 300) matrix from /home/craig/Documents/googledata/GoogleNews-vectors-negative300.bin\n"
     ]
    }
   ],
   "source": [
    "# Pretrained vectors from google (https://code.google.com/archive/p/word2vec/)\n",
    "googlemodel = KeyedVectors.load_word2vec_format('/home/craig/Documents/googledata/GoogleNews-vectors-negative300.bin', binary=True)"
   ]
  },
  {
   "cell_type": "code",
   "execution_count": 7,
   "metadata": {},
   "outputs": [
    {
     "name": "stderr",
     "output_type": "stream",
     "text": [
      "2017-11-04 09:54:27,304 : INFO : collecting all words and their counts\n",
      "2017-11-04 09:54:27,316 : INFO : PROGRESS: at sentence #0, processed 0 words, keeping 0 word types\n",
      "2017-11-04 09:54:27,529 : INFO : collected 24588 word types from a corpus of 666976 raw words and 974 sentences\n",
      "2017-11-04 09:54:27,530 : INFO : Loading a fresh vocabulary\n",
      "2017-11-04 09:54:27,561 : INFO : min_count=5 retains 7523 unique words (30% of original 24588, drops 17065)\n",
      "2017-11-04 09:54:27,562 : INFO : min_count=5 leaves 639263 word corpus (95% of original 666976, drops 27713)\n",
      "2017-11-04 09:54:27,586 : INFO : deleting the raw counts dictionary of 24588 items\n",
      "2017-11-04 09:54:27,588 : INFO : sample=0.001 downsamples 46 most-common words\n",
      "2017-11-04 09:54:27,589 : INFO : downsampling leaves estimated 584754 word corpus (91.5% of prior 639263)\n",
      "2017-11-04 09:54:27,590 : INFO : estimated required memory for 7523 words and 300 dimensions: 21816700 bytes\n",
      "2017-11-04 09:54:27,614 : INFO : resetting layer weights\n",
      "2017-11-04 09:54:27,737 : INFO : training model with 4 workers on 7523 vocabulary and 300 features, using sg=0 hs=0 sample=0.001 negative=5 window=5\n",
      "2017-11-04 09:54:28,749 : INFO : PROGRESS: at 13.59% examples, 1182752 words/s, in_qsize 7, out_qsize 0\n",
      "2017-11-04 09:54:29,757 : INFO : PROGRESS: at 27.77% examples, 1209788 words/s, in_qsize 7, out_qsize 0\n",
      "2017-11-04 09:54:30,759 : INFO : PROGRESS: at 41.55% examples, 1210053 words/s, in_qsize 7, out_qsize 0\n",
      "2017-11-04 09:54:31,760 : INFO : PROGRESS: at 55.95% examples, 1222983 words/s, in_qsize 7, out_qsize 0\n",
      "2017-11-04 09:54:32,761 : INFO : PROGRESS: at 70.18% examples, 1227281 words/s, in_qsize 7, out_qsize 0\n",
      "2017-11-04 09:54:33,767 : INFO : PROGRESS: at 84.91% examples, 1236102 words/s, in_qsize 8, out_qsize 0\n",
      "2017-11-04 09:54:34,770 : INFO : PROGRESS: at 99.15% examples, 1236896 words/s, in_qsize 8, out_qsize 1\n",
      "2017-11-04 09:54:34,817 : INFO : worker thread finished; awaiting finish of 3 more threads\n",
      "2017-11-04 09:54:34,823 : INFO : worker thread finished; awaiting finish of 2 more threads\n",
      "2017-11-04 09:54:34,832 : INFO : worker thread finished; awaiting finish of 1 more threads\n",
      "2017-11-04 09:54:34,845 : INFO : worker thread finished; awaiting finish of 0 more threads\n",
      "2017-11-04 09:54:34,846 : INFO : training on 10004640 raw words (8771591 effective words) took 7.1s, 1234365 effective words/s\n",
      "2017-11-04 09:54:34,850 : INFO : saving Word2Vec object under onetmodel.model, separately None\n",
      "2017-11-04 09:54:34,851 : INFO : not storing attribute syn0norm\n",
      "2017-11-04 09:54:34,851 : INFO : not storing attribute cum_table\n",
      "2017-11-04 09:54:35,058 : INFO : saved onetmodel.model\n"
     ]
    }
   ],
   "source": [
    "# Create O*NET Model and save it so we can use it later \n",
    "onetmodel = gensim.models.Word2Vec(data.processed, size=300, window = 5, iter=15, workers=4)\n",
    "onetmodel.save(\"onetmodel.model\")"
   ]
  },
  {
   "cell_type": "markdown",
   "metadata": {},
   "source": [
    "# Create average word embeddings \n",
    "\n",
    "\n",
    "Now we create two datasets using the two different models.  One model (googledata) uses the google model and the second uses the O*NET model"
   ]
  },
  {
   "cell_type": "code",
   "execution_count": 8,
   "metadata": {
    "collapsed": true
   },
   "outputs": [],
   "source": [
    "# List for vector names \n",
    "variables = ['d' + str(x) for x in range(0,300)]\n",
    "\n",
    "# Create google dataframe \n",
    "googledata = data.copy()\n",
    "googledata[variables] = googledata.apply(lambda x: average_word_embedding(x['processed'], googlemodel, True), axis = 1)\n",
    "\n",
    "# Create O*NET dataframe\n",
    "onetdata = data.copy()\n",
    "onetdata[variables] = onetdata.apply(lambda x: average_word_embedding(x['processed'], onetmodel), axis = 1)"
   ]
  },
  {
   "cell_type": "code",
   "execution_count": 9,
   "metadata": {
    "collapsed": true
   },
   "outputs": [],
   "source": [
    "# Pickle the DFs so we can use it later \n",
    "googledata.to_pickle(\"googledata.p\")\n",
    "onetdata.to_pickle(\"onetdata.p\")"
   ]
  },
  {
   "cell_type": "markdown",
   "metadata": {},
   "source": [
    "# Let's run some examples to see what jobs are similar using both models"
   ]
  },
  {
   "cell_type": "code",
   "execution_count": 10,
   "metadata": {},
   "outputs": [
    {
     "name": "stdout",
     "output_type": "stream",
     "text": [
      "***************\n",
      "Google data\n",
      "***************\n",
      "For the job of Singers...\n",
      "The most similiar jobs are...\n",
      "\t Music Directors\n",
      "\t Choreographers\n",
      "\t Public Address System and Other Announcers\n",
      "\t Actors\n",
      "\t Talent Directors\n",
      "The least similar jobs are...\n",
      "\t Methane/Landfill Gas Generation System Technicians\n",
      "\t Green Marketers\n",
      "\t Methane/Landfill Gas Collection System Operators\n",
      "\t Fuel Cell Technicians\n",
      "\t Data Warehousing Specialists\n",
      "\n",
      "***************\n",
      "O*NET data\n",
      "***************\n",
      "For the job of Singers...\n",
      "The most similiar jobs are...\n",
      "\t Actors\n",
      "\t Broadcast News Analysts\n",
      "\t Public Address System and Other Announcers\n",
      "\t Talent Directors\n",
      "\t Music Directors\n",
      "The least similar jobs are...\n",
      "\t Green Marketers\n",
      "\t Data Warehousing Specialists\n",
      "\t Methane/Landfill Gas Collection System Operators\n",
      "\t Methane/Landfill Gas Generation System Technicians\n",
      "\t Fuel Cell Technicians\n"
     ]
    }
   ],
   "source": [
    "# Lets look at singers - with google and onet data\n",
    "print(\"***************\\nGoogle data\\n***************\")\n",
    "find_jobs(googledata, '27-2042.01', 5, 5)\n",
    "print(\"\\n***************\\nO*NET data\\n***************\")\n",
    "find_jobs(onetdata, '27-2042.01', 5, 5)"
   ]
  },
  {
   "cell_type": "code",
   "execution_count": 11,
   "metadata": {},
   "outputs": [
    {
     "name": "stdout",
     "output_type": "stream",
     "text": [
      "***************\n",
      "Google data\n",
      "***************\n",
      "For the job of Automotive Master Mechanics...\n",
      "The most similiar jobs are...\n",
      "\t Bus and Truck Mechanics and Diesel Engine Specialists\n",
      "\t Automotive Specialty Technicians\n",
      "\t Mobile Heavy Equipment Mechanics, Except Engines\n",
      "\t Outdoor Power Equipment and Other Small Engine Mechanics\n",
      "\t Recreational Vehicle Service Technicians\n",
      "The least similar jobs are...\n",
      "\t Software Developers, Applications\n",
      "\t Green Marketers\n",
      "\t Data Warehousing Specialists\n",
      "\t Investment Underwriters\n",
      "\t Legislators\n",
      "\n",
      "***************\n",
      "O*NET data\n",
      "***************\n",
      "For the job of Automotive Master Mechanics...\n",
      "The most similiar jobs are...\n",
      "\t Automotive Specialty Technicians\n",
      "\t Recreational Vehicle Service Technicians\n",
      "\t Mobile Heavy Equipment Mechanics, Except Engines\n",
      "\t Bus and Truck Mechanics and Diesel Engine Specialists\n",
      "\t Farm Equipment Mechanics and Service Technicians\n",
      "The least similar jobs are...\n",
      "\t Data Warehousing Specialists\n",
      "\t Special Education Teachers, Preschool\n",
      "\t Green Marketers\n",
      "\t Investment Underwriters\n",
      "\t Legislators\n"
     ]
    }
   ],
   "source": [
    "# Lets look a mechanical job\n",
    "print(\"***************\\nGoogle data\\n***************\")\n",
    "find_jobs(googledata, '49-3023.01', 5, 5)\n",
    "print(\"\\n***************\\nO*NET data\\n***************\")\n",
    "find_jobs(onetdata, '49-3023.01', 5, 5)"
   ]
  },
  {
   "cell_type": "code",
   "execution_count": 12,
   "metadata": {},
   "outputs": [
    {
     "name": "stdout",
     "output_type": "stream",
     "text": [
      "***************\n",
      "Google data\n",
      "***************\n",
      "For the job of Industrial-Organizational Psychologists...\n",
      "The most similiar jobs are...\n",
      "\t Natural Sciences Managers\n",
      "\t Sociologists\n",
      "\t Logisticians\n",
      "\t Social and Community Service Managers\n",
      "\t Counseling Psychologists\n",
      "The least similar jobs are...\n",
      "\t Landscaping and Groundskeeping Workers\n",
      "\t Bakers\n",
      "\t Musical Instrument Repairers and Tuners\n",
      "\t Helpers--Pipelayers, Plumbers, Pipefitters, and Steamfitters\n",
      "\t Agricultural Equipment Operators\n",
      "\n",
      "***************\n",
      "O*NET data\n",
      "***************\n",
      "For the job of Industrial-Organizational Psychologists...\n",
      "The most similiar jobs are...\n",
      "\t Chief Sustainability Officers\n",
      "\t Natural Sciences Managers\n",
      "\t Financial Quantitative Analysts\n",
      "\t Risk Management Specialists\n",
      "\t Education Administrators, Preschool and Childcare Center/Program\n",
      "The least similar jobs are...\n",
      "\t Craft Artists\n",
      "\t Fuel Cell Technicians\n",
      "\t Helpers--Pipelayers, Plumbers, Pipefitters, and Steamfitters\n",
      "\t Musical Instrument Repairers and Tuners\n",
      "\t Methane/Landfill Gas Generation System Technicians\n"
     ]
    }
   ],
   "source": [
    "# Lets look a I/O Psychology\n",
    "print(\"***************\\nGoogle data\\n***************\")\n",
    "find_jobs(googledata, '19-3032.00', 5, 5)\n",
    "print(\"\\n***************\\nO*NET data\\n***************\")\n",
    "find_jobs(onetdata, '19-3032.00', 5, 5)"
   ]
  },
  {
   "cell_type": "code",
   "execution_count": 13,
   "metadata": {},
   "outputs": [
    {
     "name": "stdout",
     "output_type": "stream",
     "text": [
      "***************\n",
      "Google data\n",
      "***************\n",
      "For the job of Computer Programmers...\n",
      "The most similiar jobs are...\n",
      "\t Software Developers, Applications\n",
      "\t Software Developers, Systems Software\n",
      "\t Software Quality Assurance Engineers and Testers\n",
      "\t Computer Systems Engineers/Architects\n",
      "\t Database Administrators\n",
      "The least similar jobs are...\n",
      "\t Landscaping and Groundskeeping Workers\n",
      "\t Surgeons\n",
      "\t Hunters and Trappers\n",
      "\t Helpers--Pipelayers, Plumbers, Pipefitters, and Steamfitters\n",
      "\t Agricultural Equipment Operators\n",
      "\n",
      "***************\n",
      "O*NET data\n",
      "***************\n",
      "For the job of Computer Programmers...\n",
      "The most similiar jobs are...\n",
      "\t Software Developers, Applications\n",
      "\t Computer Systems Engineers/Architects\n",
      "\t Software Developers, Systems Software\n",
      "\t Database Administrators\n",
      "\t Software Quality Assurance Engineers and Testers\n",
      "The least similar jobs are...\n",
      "\t Welders, Cutters, and Welder Fitters\n",
      "\t Glaziers\n",
      "\t Solderers and Brazers\n",
      "\t Musical Instrument Repairers and Tuners\n",
      "\t Helpers--Pipelayers, Plumbers, Pipefitters, and Steamfitters\n"
     ]
    }
   ],
   "source": [
    "# Lets look at computer programming\n",
    "print(\"***************\\nGoogle data\\n***************\")\n",
    "find_jobs(googledata, '15-1131.00', 5, 5)\n",
    "print(\"\\n***************\\nO*NET data\\n***************\")\n",
    "find_jobs(onetdata, '15-1131.00', 5, 5)"
   ]
  }
 ],
 "metadata": {
  "kernelspec": {
   "display_name": "Python 3",
   "language": "python",
   "name": "python3"
  },
  "language_info": {
   "codemirror_mode": {
    "name": "ipython",
    "version": 3
   },
   "file_extension": ".py",
   "mimetype": "text/x-python",
   "name": "python",
   "nbconvert_exporter": "python",
   "pygments_lexer": "ipython3",
   "version": "3.6.1"
  }
 },
 "nbformat": 4,
 "nbformat_minor": 2
}
