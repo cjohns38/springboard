{
 "cells": [
  {
   "cell_type": "code",
   "execution_count": 156,
   "metadata": {
    "collapsed": true
   },
   "outputs": [],
   "source": [
    "import pickle, multiprocessing\n",
    "import gensim \n",
    "from pprint import pprint"
   ]
  },
  {
   "cell_type": "code",
   "execution_count": 157,
   "metadata": {},
   "outputs": [],
   "source": [
    "# Load docs\n",
    "data = pickle.load(open(\"onetsoccode.p\", \"rb\"))\n",
    "documents = [x['text'].split() for x in data]\n",
    "jobs = pickle.load(open('lookuptable', 'rb'))"
   ]
  },
  {
   "cell_type": "markdown",
   "metadata": {
    "collapsed": true
   },
   "source": [
    "# Preprocess"
   ]
  },
  {
   "cell_type": "code",
   "execution_count": 158,
   "metadata": {
    "collapsed": true
   },
   "outputs": [],
   "source": [
    "train_corpus = []\n",
    "\n",
    "for idx, x in enumerate(data): \n",
    "    preprocess = gensim.utils.simple_preprocess(x['text'])\n",
    "    tag = gensim.models.doc2vec.TaggedDocument(preprocess, [idx])\n",
    "    train_corpus.append(tag)"
   ]
  },
  {
   "cell_type": "markdown",
   "metadata": {},
   "source": [
    "# Train the model"
   ]
  },
  {
   "cell_type": "code",
   "execution_count": 159,
   "metadata": {
    "collapsed": true
   },
   "outputs": [],
   "source": [
    "model = gensim.models.doc2vec.Doc2Vec(size=500, iter=55)"
   ]
  },
  {
   "cell_type": "markdown",
   "metadata": {},
   "source": [
    "### Build the vocabulary"
   ]
  },
  {
   "cell_type": "code",
   "execution_count": 160,
   "metadata": {},
   "outputs": [],
   "source": [
    "model.build_vocab(train_corpus)"
   ]
  },
  {
   "cell_type": "code",
   "execution_count": 161,
   "metadata": {},
   "outputs": [
    {
     "name": "stdout",
     "output_type": "stream",
     "text": [
      "CPU times: user 2min 26s, sys: 3.86 s, total: 2min 30s\n",
      "Wall time: 1min 5s\n"
     ]
    },
    {
     "data": {
      "text/plain": [
       "36238747"
      ]
     },
     "execution_count": 161,
     "metadata": {},
     "output_type": "execute_result"
    }
   ],
   "source": [
    "# NOTE: SPEED UP BY INSTALLING BLAS \n",
    "%time model.train(train_corpus, total_examples=model.corpus_count, epochs=model.iter)"
   ]
  },
  {
   "cell_type": "code",
   "execution_count": 153,
   "metadata": {
    "collapsed": true
   },
   "outputs": [],
   "source": [
    "# Save model\n",
    "model.save(\"doc2vec.model\")"
   ]
  },
  {
   "cell_type": "markdown",
   "metadata": {},
   "source": [
    "# Try infering"
   ]
  },
  {
   "cell_type": "code",
   "execution_count": 144,
   "metadata": {},
   "outputs": [],
   "source": [
    "def topjobs(txt, n_top = 5, n_bottom = None): \n",
    "    processedText = gensim.utils.simple_preprocess(txt)\n",
    "    inferred_vector = model.infer_vector(processedText)\n",
    "    sims = model.docvecs.most_similar([inferred_vector])\n",
    "    \n",
    "    for x in sims[:n_top]: \n",
    "        job = jobs[x[0]]\n",
    "        print(\"Job:{0};\\n\\tLookup Num:{1};\\n\\tMatch Rate:{2:.2f}\".format(job['title'], x[0], x[1]))"
   ]
  },
  {
   "cell_type": "code",
   "execution_count": 145,
   "metadata": {},
   "outputs": [
    {
     "name": "stdout",
     "output_type": "stream",
     "text": [
      "Job:Materials Engineers;\n",
      "\tLookup Num:167;\n",
      "\tMatch Rate:0.50\n",
      "Job:Weighers, Measurers, Checkers, and Samplers, Recordkeeping;\n",
      "\tLookup Num:660;\n",
      "\tMatch Rate:0.50\n",
      "Job:Nuclear Medicine Technologists;\n",
      "\tLookup Num:461;\n",
      "\tMatch Rate:0.47\n",
      "Job:Outdoor Power Equipment and Other Small Engine Mechanics;\n",
      "\tLookup Num:779;\n",
      "\tMatch Rate:0.47\n",
      "Job:Automotive Engineers;\n",
      "\tLookup Num:170;\n",
      "\tMatch Rate:0.46\n"
     ]
    }
   ],
   "source": [
    "# Construction worker \n",
    "construction = \"\"\"Perform tasks involving physical labor at construction sites. May operate hand and power tools of all types: air hammers, earth tampers, cement mixers, small mechanical hoists, surveying and measuring equipment, and a variety of other equipment and instruments. May clean and prepare sites, dig trenches, set braces to support the sides of excavations, erect scaffolding, and clean up rubble, debris and other waste materials. May assist other craft workers.\"\"\"\n",
    "topjobs(construction)"
   ]
  },
  {
   "cell_type": "code",
   "execution_count": 146,
   "metadata": {},
   "outputs": [
    {
     "name": "stdout",
     "output_type": "stream",
     "text": [
      "Job:English Language and Literature Teachers, Postsecondary;\n",
      "\tLookup Num:324;\n",
      "\tMatch Rate:0.62\n",
      "Job:Secondary School Teachers, Except Special and Career/Technical Education;\n",
      "\tLookup Num:337;\n",
      "\tMatch Rate:0.60\n",
      "Job:Kindergarten Teachers, Except Special Education;\n",
      "\tLookup Num:333;\n",
      "\tMatch Rate:0.58\n",
      "Job:Art, Drama, and Music Teachers, Postsecondary;\n",
      "\tLookup Num:322;\n",
      "\tMatch Rate:0.58\n",
      "Job:Economics Teachers, Postsecondary;\n",
      "\tLookup Num:310;\n",
      "\tMatch Rate:0.56\n"
     ]
    }
   ],
   "source": [
    "# Chef \n",
    "chef = \"\"\"Direct and may participate in the preparation, seasoning, and cooking of salads, soups, fish, meats, vegetables, desserts, or other foods. May plan and price menu items, order supplies, and keep records and accounts.\"\"\"\n",
    "topjobs(chef)"
   ]
  },
  {
   "cell_type": "code",
   "execution_count": 147,
   "metadata": {},
   "outputs": [
    {
     "name": "stdout",
     "output_type": "stream",
     "text": [
      "Job:Political Scientists;\n",
      "\tLookup Num:256;\n",
      "\tMatch Rate:0.32\n",
      "Job:Art, Drama, and Music Teachers, Postsecondary;\n",
      "\tLookup Num:322;\n",
      "\tMatch Rate:0.31\n",
      "Job:English Language and Literature Teachers, Postsecondary;\n",
      "\tLookup Num:324;\n",
      "\tMatch Rate:0.30\n",
      "Job:History Teachers, Postsecondary;\n",
      "\tLookup Num:326;\n",
      "\tMatch Rate:0.30\n",
      "Job:Kindergarten Teachers, Except Special Education;\n",
      "\tLookup Num:333;\n",
      "\tMatch Rate:0.30\n"
     ]
    }
   ],
   "source": [
    "randomfoodwords = \"food, ingredients, cook, raw\"\n",
    "topjobs(randomfoodwords)"
   ]
  },
  {
   "cell_type": "code",
   "execution_count": 154,
   "metadata": {},
   "outputs": [
    {
     "name": "stdout",
     "output_type": "stream",
     "text": [
      "Job:Pest Control Workers;\n",
      "\tLookup Num:554;\n",
      "\tMatch Rate:0.18\n",
      "Job:Athletic Trainers;\n",
      "\tLookup Num:483;\n",
      "\tMatch Rate:0.18\n",
      "Job:Radiologists;\n",
      "\tLookup Num:424;\n",
      "\tMatch Rate:0.17\n",
      "Job:First-Line Supervisors of Non-Retail Sales Workers;\n",
      "\tLookup Num:591;\n",
      "\tMatch Rate:0.17\n",
      "Job:Copy Writers;\n",
      "\tLookup Num:390;\n",
      "\tMatch Rate:0.16\n"
     ]
    }
   ],
   "source": [
    "#statistician \n",
    "stats = \"\"\"A statistician is someone who works with theoretical or applied statistics. The profession exists in both the private and public sectors. It is common to combine statistical knowledge with expertise in other subjects, and statisticians may work as employees or as statistical consultants.[1][2]\"\"\"\n",
    "\n",
    "topjobs(stats)"
   ]
  },
  {
   "cell_type": "code",
   "execution_count": 155,
   "metadata": {},
   "outputs": [
    {
     "name": "stdout",
     "output_type": "stream",
     "text": [
      "Job:Stone Cutters and Carvers, Manufacturing;\n",
      "\tLookup Num:913;\n",
      "\tMatch Rate:0.20\n",
      "Job:Probation Officers and Correctional Treatment Specialists;\n",
      "\tLookup Num:283;\n",
      "\tMatch Rate:0.18\n",
      "Job:Occupational Therapy Assistants;\n",
      "\tLookup Num:490;\n",
      "\tMatch Rate:0.18\n",
      "Job:Septic Tank Servicers and Sewer Pipe Cleaners;\n",
      "\tLookup Num:740;\n",
      "\tMatch Rate:0.18\n",
      "Job:Remote Sensing Scientists and Technologists;\n",
      "\tLookup Num:241;\n",
      "\tMatch Rate:0.17\n"
     ]
    }
   ],
   "source": [
    "topjobs(\"statistics\")"
   ]
  },
  {
   "cell_type": "code",
   "execution_count": null,
   "metadata": {
    "collapsed": true
   },
   "outputs": [],
   "source": []
  }
 ],
 "metadata": {
  "kernelspec": {
   "display_name": "Python 3",
   "language": "python",
   "name": "python3"
  },
  "language_info": {
   "codemirror_mode": {
    "name": "ipython",
    "version": 3
   },
   "file_extension": ".py",
   "mimetype": "text/x-python",
   "name": "python",
   "nbconvert_exporter": "python",
   "pygments_lexer": "ipython3",
   "version": "3.6.1"
  }
 },
 "nbformat": 4,
 "nbformat_minor": 2
}
